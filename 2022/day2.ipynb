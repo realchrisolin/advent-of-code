{
 "cells": [
  {
   "cell_type": "markdown",
   "source": [
    "--- Day 2: Rock Paper Scissors ---\n",
    "The Elves begin to set up camp on the beach. To decide whose tent gets to be closest to the snack storage, a giant Rock Paper Scissors tournament is already in progress.\n",
    "\n",
    "Rock Paper Scissors is a game between two players. Each game contains many rounds; in each round, the players each simultaneously choose one of Rock, Paper, or Scissors using a hand shape. Then, a winner for that round is selected: Rock defeats Scissors, Scissors defeats Paper, and Paper defeats Rock. If both players choose the same shape, the round instead ends in a draw.\n",
    "\n",
    "Appreciative of your help yesterday, one Elf gives you an encrypted strategy guide (your puzzle input) that they say will be sure to help you win. \"The first column is what your opponent is going to play: A for Rock, B for Paper, and C for Scissors. The second column--\" Suddenly, the Elf is called away to help with someone's tent.\n",
    "\n",
    "The second column, you reason, must be what you should play in response: X for Rock, Y for Paper, and Z for Scissors. Winning every time would be suspicious, so the responses must have been carefully chosen.\n",
    "\n",
    "The winner of the whole tournament is the player with the highest score. Your total score is the sum of your scores for each round. The score for a single round is the score for the shape you selected (1 for Rock, 2 for Paper, and 3 for Scissors) plus the score for the outcome of the round (0 if you lost, 3 if the round was a draw, and 6 if you won).\n",
    "\n",
    "Since you can't be sure if the Elf is trying to help you or trick you, you should calculate the score you would get if you were to follow the strategy guide.\n",
    "\n",
    "For example, suppose you were given the following strategy guide:\n",
    "\n",
    "A Y\n",
    "B X\n",
    "C Z\n",
    "This strategy guide predicts and recommends the following:\n",
    "\n",
    "In the first round, your opponent will choose Rock (A), and you should choose Paper (Y). This ends in a win for you with a score of 8 (2 because you chose Paper + 6 because you won).\n",
    "In the second round, your opponent will choose Paper (B), and you should choose Rock (X). This ends in a loss for you with a score of 1 (1 + 0).\n",
    "The third round is a draw with both players choosing Scissors, giving you a score of 3 + 3 = 6.\n",
    "In this example, if you were to follow the strategy guide, you would get a total score of 15 (8 + 1 + 6).\n",
    "\n",
    "What would your total score be if everything goes exactly according to your strategy guide?"
   ],
   "metadata": {
    "collapsed": false
   }
  },
  {
   "cell_type": "code",
   "execution_count": 4,
   "outputs": [
    {
     "name": "stdout",
     "output_type": "stream",
     "text": [
      "10718\n"
     ]
    }
   ],
   "source": [
    "import _io\n",
    "\n",
    "\n",
    "# A for Rock, B for Paper, and C for Scissors\n",
    "# X for Rock, Y for Paper, and Z for Scissors\n",
    "\n",
    "def calculate_score(shape, result):\n",
    "  points = {\n",
    "    \"X\": 1,\n",
    "    \"Y\": 2,\n",
    "    \"Z\": 3\n",
    "  }\n",
    "  match result:\n",
    "    case \"win\":\n",
    "      return (points[shape] + 6)\n",
    "    case \"draw\":\n",
    "      return (points[shape] + 3)\n",
    "    case \"loss\":\n",
    "      return (points[shape])\n",
    "\n",
    "def validate_strategy(opponent, strategy):\n",
    "  truth = {\n",
    "    \"A\":\"Y\",\n",
    "    \"B\":\"Z\",\n",
    "    \"C\":\"X\"\n",
    "  }\n",
    "\n",
    "  draw = {\n",
    "    \"A\":\"X\",\n",
    "    \"B\":\"Y\",\n",
    "    \"C\":\"Z\"\n",
    "  }\n",
    "  if draw[opponent] == strategy:\n",
    "    return \"draw\"\n",
    "  if truth[opponent] == strategy:\n",
    "    return \"win\"\n",
    "  else:\n",
    "    return \"loss\"\n",
    "\n",
    "total = 0\n",
    "with open('day2-input.txt', 'r') as guide:\n",
    "  for round in guide:\n",
    "    [challenge, response] = round.split()\n",
    "    status = validate_strategy(challenge, response)\n",
    "    score = calculate_score(response, status)\n",
    "    total += score\n",
    "\n",
    "print(total)"
   ],
   "metadata": {
    "collapsed": false
   }
  },
  {
   "cell_type": "markdown",
   "source": [
    "--- Part Two ---\n",
    "The Elf finishes helping with the tent and sneaks back over to you. \"Anyway, the second column says how the round needs to end: X means you need to lose, Y means you need to end the round in a draw, and Z means you need to win. Good luck!\"\n",
    "\n",
    "The total score is still calculated in the same way, but now you need to figure out what shape to choose so the round ends as indicated. The example above now goes like this:\n",
    "\n",
    "In the first round, your opponent will choose Rock (A), and you need the round to end in a draw (Y), so you also choose Rock. This gives you a score of 1 + 3 = 4.\n",
    "In the second round, your opponent will choose Paper (B), and you choose Rock so you lose (X) with a score of 1 + 0 = 1.\n",
    "In the third round, you will defeat your opponent's Scissors with Rock for a score of 1 + 6 = 7.\n",
    "Now that you're correctly decrypting the ultra top secret strategy guide, you would get a total score of 12.\n",
    "\n",
    "Following the Elf's instructions for the second column, what would your total score be if everything goes exactly according to your strategy guide?"
   ],
   "metadata": {
    "collapsed": false
   }
  },
  {
   "cell_type": "code",
   "execution_count": 25,
   "outputs": [
    {
     "name": "stdout",
     "output_type": "stream",
     "text": [
      "10718\n",
      "----------\n",
      "14652\n"
     ]
    },
    {
     "data": {
      "text/plain": "14652"
     },
     "execution_count": 25,
     "metadata": {},
     "output_type": "execute_result"
    }
   ],
   "source": [
    "# A for Rock, B for Paper, and C for Scissors\n",
    "# X for Rock, Y for Paper, and Z for Scissors\n",
    "# X means you need to lose, Y means you need to end the round in a draw, and Z means you need to win.\n",
    "import _io\n",
    "\n",
    "class Game(object):\n",
    "  def __init__(self):\n",
    "    self.data = []\n",
    "    self.encrypted_score = 0\n",
    "    self.decrypted_score = 0\n",
    "    self.points = {\n",
    "      \"rock\": 1,\n",
    "      \"paper\": 2,\n",
    "      \"scissors\": 3\n",
    "    }\n",
    "\n",
    "    self.challenge = {\n",
    "      \"A\": \"rock\",\n",
    "      \"B\": \"paper\",\n",
    "      \"C\": \"scissors\"\n",
    "    }\n",
    "\n",
    "    self.win = {\n",
    "      \"rock\": \"paper\",\n",
    "      \"paper\": \"scissors\",\n",
    "      \"scissors\": \"rock\"\n",
    "    }\n",
    "\n",
    "    self.draw = {\n",
    "      \"rock\":\"rock\",\n",
    "      \"paper\":\"paper\",\n",
    "      \"scissors\": \"scissors\"\n",
    "    }\n",
    "\n",
    "    self.encrypted = {\n",
    "      \"X\": \"rock\",\n",
    "      \"Y\": \"paper\",\n",
    "      \"Z\": \"scissors\"\n",
    "    }\n",
    "\n",
    "    self.decrypted = {\n",
    "      \"X\": \"lose\",\n",
    "      \"Y\": \"draw\",\n",
    "      \"Z\": \"win\"\n",
    "    }\n",
    "\n",
    "  def load_game_data(self, data: _io.TextIOWrapper) -> dict():\n",
    "    for round in data:\n",
    "      [challenge, response] = round.split()\n",
    "      self.data.extend([[challenge,response]])\n",
    "    return True\n",
    "\n",
    "  def calculate_encrypted_score(self) -> int():\n",
    "    score = 0\n",
    "    for round in self.data:\n",
    "      encrypted_challenge, encrypted_response = round\n",
    "      challenge = self.challenge[encrypted_challenge]\n",
    "      response = self.encrypted[encrypted_response]\n",
    "      #if won\n",
    "      if response == self.win[challenge]:\n",
    "        score += 6 + self.points[response]\n",
    "      #draw\n",
    "      elif response == self.draw[challenge]:\n",
    "        score += 3 + self.points[response]\n",
    "      #loss\n",
    "      else:\n",
    "        score += 0 + self.points[response]\n",
    "    self.encrypted_score = score\n",
    "    print(score)\n",
    "    return(score)\n",
    "\n",
    "  def calculate_decrypted_score(self) -> int():\n",
    "    score = 0\n",
    "    for round in self.data:\n",
    "      raw_challenge, raw_response = round\n",
    "      challenge = self.challenge[raw_challenge]\n",
    "      response = self.decrypted[raw_response]\n",
    "      if response == \"win\":\n",
    "        score += 6 + self.points[self.win[challenge]]\n",
    "      elif response == \"draw\":\n",
    "        score += 3 + self.points[self.draw[challenge]]\n",
    "      else:\n",
    "        score += self.points[self.win[self.win[challenge]]]\n",
    "    self.decrypted_score = score\n",
    "    print(score)\n",
    "    return(score)\n",
    "\n",
    "with open('day2-input.txt', 'r') as data:\n",
    "  game = Game()\n",
    "  game.load_game_data(data)\n",
    "\n",
    "game.calculate_encrypted_score()\n",
    "print('-'*10)\n",
    "game.calculate_decrypted_score()\n"
   ],
   "metadata": {
    "collapsed": false
   }
  },
  {
   "cell_type": "code",
   "execution_count": null,
   "outputs": [],
   "source": [],
   "metadata": {
    "collapsed": false
   }
  }
 ],
 "metadata": {
  "kernelspec": {
   "display_name": "Python 3",
   "language": "python",
   "name": "python3"
  },
  "language_info": {
   "codemirror_mode": {
    "name": "ipython",
    "version": 2
   },
   "file_extension": ".py",
   "mimetype": "text/x-python",
   "name": "python",
   "nbconvert_exporter": "python",
   "pygments_lexer": "ipython2",
   "version": "2.7.6"
  }
 },
 "nbformat": 4,
 "nbformat_minor": 0
}
